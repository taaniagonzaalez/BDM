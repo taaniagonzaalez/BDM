{
 "cells": [
  {
   "cell_type": "code",
   "execution_count": 3,
   "metadata": {},
   "outputs": [
    {
     "name": "stderr",
     "output_type": "stream",
     "text": [
      "/Users/tania/Desktop/Master/2S/BDM/P1/BDM/BDM/lib/python3.9/site-packages/urllib3/__init__.py:35: NotOpenSSLWarning: urllib3 v2 only supports OpenSSL 1.1.1+, currently the 'ssl' module is compiled with 'LibreSSL 2.8.3'. See: https://github.com/urllib3/urllib3/issues/3020\n",
      "  warnings.warn(\n"
     ]
    }
   ],
   "source": [
    "import csv\n",
    "import time\n",
    "from bs4 import BeautifulSoup\n",
    "from selenium import webdriver\n",
    "from selenium.webdriver.chrome.service import Service\n",
    "from selenium.webdriver.chrome.options import Options\n",
    "from selenium.common.exceptions import TimeoutException\n",
    "from selenium.webdriver.common.by import By\n",
    "from selenium.webdriver.common.keys import Keys\n",
    "from selenium.webdriver.support import expected_conditions as EC\n",
    "from selenium.webdriver.support.ui import WebDriverWait\n",
    "from webdriver_manager.chrome import ChromeDriverManager\n",
    "from selenium.webdriver.chrome.service import Service as ChromeService"
   ]
  },
  {
   "cell_type": "code",
   "execution_count": 54,
   "metadata": {},
   "outputs": [],
   "source": [
    "class RestaurantScrape_GM:\n",
    "\n",
    "    def __init__(self,driver):\n",
    "        self.driver = driver\n",
    "\n",
    "    def wait_for_element(self, locator, timeout=5):\n",
    "        try:\n",
    "            element_present = WebDriverWait(self.driver,timeout).until(\n",
    "                EC.presence_of_element_located(locator)\n",
    "            )\n",
    "        except TimeoutException:\n",
    "            element_present = None\n",
    "        return element_present\n",
    "\n",
    "    def accept_cookies(self):\n",
    "\n",
    "        try:\n",
    "            # Scroll down to make \"Accept all\" button visible\n",
    "            self.driver.find_element(By.TAG_NAME, \"body\").send_keys(Keys.PAGE_DOWN)\n",
    "            time.sleep(2)  # Wait after scrolling\n",
    "\n",
    "            # Locate and click \"Accept all\" button\n",
    "            WebDriverWait(self.driver, 9).until(EC.element_to_be_clickable((By.XPATH, \"//button[.//span[text()='Aceptar todo']]\"))).click()\n",
    "\n",
    "            time.sleep(3)  # Wait for the page to reload\n",
    "\n",
    "        except Exception as e:\n",
    "            print(\"⚠️ No cookie popup detected or failed to click:\", e)\n",
    "\n",
    "    def collect_reviews(self, required_records, url):\n",
    "        \"\"\"\n",
    "        Collect data for the specified number of records\n",
    "        \"\"\"\n",
    "        self.driver.get(url)\n",
    "        time.sleep(5)\n",
    "\n",
    "        self.accept_cookies()\n",
    "        # Search span \"More reviews\"\n",
    "        more_reviews_element = WebDriverWait(self.driver, 10).until(\n",
    "                EC.element_to_be_clickable((By.XPATH, \"//button[contains(@aria-label, 'Reseñas')]\"))\n",
    "            )\n",
    "        more_reviews_element.click()\n",
    "\n",
    "        # more_reviews_identifier = (By.XPATH, '//span[@class=\"wNNZR fontTitleSmall\"]')\n",
    "        # more_reviews_identifier.click()\n",
    "        time.sleep(5)\n",
    "\n",
    "        # Locate the scrollable reviews div\n",
    "        scrollable_div = self.driver.find_element(\"xpath\", '//div[contains(@class, \"m6QErb XiKgde\")]')\n",
    "\n",
    "        prev_height = 0\n",
    "        records = []  # List to store extracted reviews\n",
    "\n",
    "        while True:\n",
    "            # Scroll down inside the reviews container\n",
    "            self.driver.execute_script(\"arguments[0].scrollTop = arguments[0].scrollHeight\", scrollable_div)\n",
    "            time.sleep(2)  # Allow time for new reviews to load\n",
    "\n",
    "            # Get new height after scrolling\n",
    "            new_height = self.driver.execute_script(\"return arguments[0].scrollHeight\", scrollable_div)\n",
    "\n",
    "            # Extract visible reviews after scrolling\n",
    "            review_elements = self.driver.find_elements(By.XPATH, '//*[@class=\"jftiEf fontBodyMedium \"]')\n",
    "\n",
    "            # Collect review texts and avoid duplicates\n",
    "            for review in review_elements:\n",
    "                review_text = review.text.strip()\n",
    "                if review_text not in records:\n",
    "                    records.append(review_text)\n",
    "\n",
    "            # Stop if no new content loads OR we reached required records\n",
    "            if new_height == prev_height or len(records) >= required_records:\n",
    "                break\n",
    "\n",
    "            prev_height = new_height  # Update scroll height\n",
    "        return records\n",
    "\n",
    "    def collect_info(self, url):\n",
    "        self.driver.get(url)\n",
    "        time.sleep(5)  # Wait for page to load\n",
    "\n",
    "        self.accept_cookies()\n",
    "\n",
    "        # Extract Restaurant Name\n",
    "        try:\n",
    "            name = self.driver.find_element(By.XPATH, '//h1[contains(@class, \"DUwDvf\")]').text\n",
    "        except:\n",
    "            name = None\n",
    "\n",
    "        # Extract Rating\n",
    "        try:\n",
    "            rating = self.driver.find_element(By.XPATH, '//div[contains(@class, \"F7nice \")]//span[@aria-hidden=\"true\"]').text\n",
    "        except:\n",
    "            rating = None\n",
    "\n",
    "        # Extract Address\n",
    "        try:\n",
    "            address = self.driver.find_element(By.XPATH, '(//div[contains(@class, \"Io6YTe\") and contains(@class, \"kR99db\")])[1]').text\n",
    "        except:\n",
    "            address = None\n",
    "\n",
    "        # Extract Phone Number\n",
    "        try:\n",
    "            phone = self.driver.find_element(By.XPATH, '(//div[contains(@class, \"Io6YTe\") and contains(@class, \"kR99db\")])[3]').text\n",
    "        except:\n",
    "            phone = None\n",
    "\n",
    "        # Extract Website\n",
    "        try:\n",
    "            website = self.driver.find_element(By.XPATH, '(//div[contains(@class, \"Io6YTe\") and contains(@class, \"kR99db\")])[2]').text\n",
    "        except:\n",
    "            website = None\n",
    "\n",
    "        # Extract Opening Hours\n",
    "        try:\n",
    "            self.driver.find_element(By.XPATH, '//span[contains(@class, \"puWIL hKrmvd google-symbols OazX1c\")]').click()  # Click to expand hours\n",
    "            time.sleep(2)\n",
    "            hours = self.driver.find_element(By.XPATH, '//div[contains(@class, \"t39EBf\") and contains(@aria-label, \"De\")]').text\n",
    "        except:\n",
    "            hours = None\n",
    "\n",
    "        self.driver.quit()\n",
    "\n",
    "        return {\n",
    "            \"Name\": name,\n",
    "            \"Rating\": rating,\n",
    "            \"Address\": address,\n",
    "            \"Phone\": phone,\n",
    "            \"Website\": website,\n",
    "            \"Opening Hours\": hours\n",
    "        }\n",
    "\n"
   ]
  },
  {
   "cell_type": "code",
   "execution_count": 43,
   "metadata": {},
   "outputs": [],
   "source": [
    "chrome_options = Options()\n",
    "chrome_options.add_argument(\"--start-maximized\")  # Open in full screen\n",
    "chrome_options.add_argument(\"--headless\")  # Run without opening a window (optional)\n",
    "\n",
    "chromedriver_path = \"/usr/local/bin/chromedriver\"\n",
    "service = Service(chromedriver_path)\n",
    "driver = webdriver.Chrome(service=service, options=chrome_options)\n",
    "\n"
   ]
  },
  {
   "cell_type": "code",
   "execution_count": 55,
   "metadata": {},
   "outputs": [],
   "source": [
    "cdriver = RestaurantScrape_GM(driver)\n",
    "\n",
    "website = \"https://www.google.com/maps/search/?api=1&query=Honest+Greens+Pedralbes+Centre\""
   ]
  },
  {
   "cell_type": "code",
   "execution_count": 40,
   "metadata": {},
   "outputs": [],
   "source": [
    "info = cdriver.collect_info(website)"
   ]
  },
  {
   "cell_type": "code",
   "execution_count": 56,
   "metadata": {},
   "outputs": [
    {
     "name": "stdout",
     "output_type": "stream",
     "text": [
      "⚠️ No cookie popup detected or failed to click: Message: \n",
      "Stacktrace:\n",
      "0   chromedriver                        0x00000001079c3808 chromedriver + 6105096\n",
      "1   chromedriver                        0x00000001079bb40a chromedriver + 6071306\n",
      "2   chromedriver                        0x0000000107456600 chromedriver + 415232\n",
      "3   chromedriver                        0x00000001074a82c0 chromedriver + 750272\n",
      "4   chromedriver                        0x00000001074a8511 chromedriver + 750865\n",
      "5   chromedriver                        0x00000001074f89c4 chromedriver + 1079748\n",
      "6   chromedriver                        0x00000001074ce63d chromedriver + 906813\n",
      "7   chromedriver                        0x00000001074f5c3d chromedriver + 1068093\n",
      "8   chromedriver                        0x00000001074ce3e3 chromedriver + 906211\n",
      "9   chromedriver                        0x000000010749a29a chromedriver + 692890\n",
      "10  chromedriver                        0x000000010749b3f1 chromedriver + 697329\n",
      "11  chromedriver                        0x0000000107982d00 chromedriver + 5840128\n",
      "12  chromedriver                        0x0000000107986bd4 chromedriver + 5856212\n",
      "13  chromedriver                        0x000000010795d936 chromedriver + 5687606\n",
      "14  chromedriver                        0x00000001079875cb chromedriver + 5858763\n",
      "15  chromedriver                        0x000000010794c024 chromedriver + 5615652\n",
      "16  chromedriver                        0x00000001079a9368 chromedriver + 5997416\n",
      "17  chromedriver                        0x00000001079a952f chromedriver + 5997871\n",
      "18  chromedriver                        0x00000001079bafe8 chromedriver + 6070248\n",
      "19  libsystem_pthread.dylib             0x00007ff81671a18b _pthread_start + 99\n",
      "20  libsystem_pthread.dylib             0x00007ff816715ae3 thread_start + 15\n",
      "\n"
     ]
    }
   ],
   "source": [
    "reviews = cdriver.collect_reviews(10, website)"
   ]
  },
  {
   "cell_type": "code",
   "execution_count": 57,
   "metadata": {},
   "outputs": [
    {
     "data": {
      "text/plain": [
       "[]"
      ]
     },
     "execution_count": 57,
     "metadata": {},
     "output_type": "execute_result"
    }
   ],
   "source": [
    "reviews\n"
   ]
  },
  {
   "cell_type": "code",
   "execution_count": 8,
   "metadata": {},
   "outputs": [
    {
     "name": "stdout",
     "output_type": "stream",
     "text": [
      "✅ Accepted cookies\n",
      "✅ Restaurant Name: L'illa Diagonal\n"
     ]
    }
   ],
   "source": [
    "from selenium import webdriver\n",
    "from selenium.webdriver.common.by import By\n",
    "from selenium.webdriver.common.keys import Keys\n",
    "import time\n",
    "\n",
    "# 🚀 Setup WebDriver\n",
    "driver = webdriver.Chrome()\n",
    "\n",
    "# 🌍 Open Google Maps Page\n",
    "driver.get(\"https://www.google.com/maps/search/?api=1&query=L'illa+Diagonal\")\n",
    "time.sleep(5)  # Allow time for the consent page to load\n",
    "\n",
    "# 🍪 Accept Cookies (Scrolling First)\n",
    "try:\n",
    "    # Scroll down to make \"Accept all\" button visible\n",
    "    driver.find_element(By.TAG_NAME, \"body\").send_keys(Keys.PAGE_DOWN)\n",
    "    time.sleep(2)  # Wait after scrolling\n",
    "\n",
    "    # Locate and click \"Accept all\" button\n",
    "    WebDriverWait(driver, 9).until(EC.element_to_be_clickable((By.XPATH, \"//button[.//span[text()='Aceptar todo']]\"))).click()\n",
    "    # accept_button = driver.find_element(By.XPATH, '//button[contains(text(), \"Aceptar todo\")]')\n",
    "    # accept_button.click()\n",
    "    time.sleep(3)  # Wait for the page to reload\n",
    "\n",
    "    print(\"✅ Accepted cookies\")\n",
    "except Exception as e:\n",
    "    print(\"⚠️ No cookie popup detected or failed to click:\", e)\n",
    "\n",
    "# 🏠 Extract Restaurant Name\n",
    "try:\n",
    "    name_element = driver.find_element(By.XPATH, '//h1[contains(@class, \"DUwDvf\")]')\n",
    "    name = name_element.text.strip()\n",
    "\n",
    "    # Alternative: Use `.get_attribute(\"innerText\")` if `.text` fails\n",
    "    if not name:\n",
    "        name = name_element.get_attribute(\"innerText\").strip()\n",
    "\n",
    "    print(f\"✅ Restaurant Name: {name}\")\n",
    "\n",
    "except:\n",
    "    print(\"❌ Restaurant name not found\")\n",
    "\n",
    "# 🚪 Close Browser\n",
    "driver.quit()"
   ]
  }
 ],
 "metadata": {
  "kernelspec": {
   "display_name": "BDM",
   "language": "python",
   "name": "python3"
  },
  "language_info": {
   "codemirror_mode": {
    "name": "ipython",
    "version": 3
   },
   "file_extension": ".py",
   "mimetype": "text/x-python",
   "name": "python",
   "nbconvert_exporter": "python",
   "pygments_lexer": "ipython3",
   "version": "3.9.6"
  },
  "orig_nbformat": 4
 },
 "nbformat": 4,
 "nbformat_minor": 2
}
