{
 "cells": [
  {
   "cell_type": "code",
   "execution_count": 4,
   "metadata": {},
   "outputs": [],
   "source": [
    "import requests\n",
    "import pandas as pd"
   ]
  },
  {
   "cell_type": "markdown",
   "metadata": {},
   "source": [
    "Get the request"
   ]
  },
  {
   "cell_type": "code",
   "execution_count": 5,
   "metadata": {},
   "outputs": [],
   "source": [
    "cookies = {\n",
    "    'wdi': '2|2C95C01847B8AA6F|0x1.9f3057ae47929p+30|53583a7a49b40b86',\n",
    "    'OptanonAlertBoxClosed': '2025-03-08T10:03:53.830Z',\n",
    "    'bse': 'a4fb47cb036a48c183a73eb985d990b6',\n",
    "    'xcj': '1|PUzdxXug1trP6yFe2MaprgBLzH34GBbQTvYxLT3LJck',\n",
    "    'OptanonConsent': 'isGpcEnabled=0&datestamp=Sat+Mar+08+2025+15%3A44%3A21+GMT%2B0100+(hora+est%C3%A1ndar+de+Europa+central)&version=202403.1.0&browserGpcFlag=0&isIABGlobal=false&identifierType=Cookie+Unique+Id&hosts=&consentId=7997938c-7b22-4f0b-85ae-f60e6c640a83&interactionCount=1&isAnonUser=1&landingPath=NotLandingPage&groups=C0001%3A1%2CC0002%3A0%2CC0003%3A0&iType=2&geolocation=ES%3BCT&AwaitingReconsent=false',\n",
    "    'datadome': 'BA96IR_h9orYJ_CugeVaHxIDisDCYlFEEOwpdTWW20sBleKPAQli6~8212tZ8hn5AFbMzDhFC_Vh7WrgLEZ108AszljUJMsqvqnNGdLI~hTGbJRFQhcE6JapjiIst09d',\n",
    "}\n",
    "\n",
    "headers = {\n",
    "    'accept': '*/*',\n",
    "    'accept-language': 'es-ES,es;q=0.9',\n",
    "    'priority': 'u=1, i',\n",
    "    'referer': 'https://www.yelp.es/search?find_desc=restaurantes&find_loc=Barcelona&start=0',\n",
    "    'sec-ch-ua': '\"Chromium\";v=\"134\", \"Not:A-Brand\";v=\"24\", \"Google Chrome\";v=\"134\"',\n",
    "    'sec-ch-ua-mobile': '?0',\n",
    "    'sec-ch-ua-platform': '\"macOS\"',\n",
    "    'sec-fetch-dest': 'empty',\n",
    "    'sec-fetch-mode': 'cors',\n",
    "    'sec-fetch-site': 'same-origin',\n",
    "    'user-agent': 'Mozilla/5.0 (Macintosh; Intel Mac OS X 10_15_7) AppleWebKit/537.36 (KHTML, like Gecko) Chrome/134.0.0.0 Safari/537.36',\n",
    "    # 'cookie': 'wdi=2|2C95C01847B8AA6F|0x1.9f3057ae47929p+30|53583a7a49b40b86; OptanonAlertBoxClosed=2025-03-08T10:03:53.830Z; bse=a4fb47cb036a48c183a73eb985d990b6; xcj=1|PUzdxXug1trP6yFe2MaprgBLzH34GBbQTvYxLT3LJck; OptanonConsent=isGpcEnabled=0&datestamp=Sat+Mar+08+2025+15%3A44%3A21+GMT%2B0100+(hora+est%C3%A1ndar+de+Europa+central)&version=202403.1.0&browserGpcFlag=0&isIABGlobal=false&identifierType=Cookie+Unique+Id&hosts=&consentId=7997938c-7b22-4f0b-85ae-f60e6c640a83&interactionCount=1&isAnonUser=1&landingPath=NotLandingPage&groups=C0001%3A1%2CC0002%3A0%2CC0003%3A0&iType=2&geolocation=ES%3BCT&AwaitingReconsent=false; datadome=BA96IR_h9orYJ_CugeVaHxIDisDCYlFEEOwpdTWW20sBleKPAQli6~8212tZ8hn5AFbMzDhFC_Vh7WrgLEZ108AszljUJMsqvqnNGdLI~hTGbJRFQhcE6JapjiIst09d',\n",
    "}\n",
    "\n",
    "params = {\n",
    "    'find_desc': 'restaurantes',\n",
    "    'find_loc': 'Barcelona',\n",
    "    'start': '0',\n",
    "    'parent_request_id': '12703c66e7aeb52f',\n",
    "    'request_origin': 'user',\n",
    "}\n",
    "\n",
    "response = requests.get('https://www.yelp.es/search/snippet', params=params, cookies=cookies, headers=headers)"
   ]
  },
  {
   "cell_type": "code",
   "execution_count": 7,
   "metadata": {},
   "outputs": [],
   "source": [
    "response_json = response.json()"
   ]
  },
  {
   "cell_type": "code",
   "execution_count": 10,
   "metadata": {},
   "outputs": [
    {
     "data": {
      "text/plain": [
       "dict_keys(['adLoggingConfig', 'ajaxScrollablePhotosURI', 'autoEnabledAttributes', 'loggingConfig', 'loggingData', 'pageTitle', 'searchPageProps', 'searchPageShellProps'])"
      ]
     },
     "execution_count": 10,
     "metadata": {},
     "output_type": "execute_result"
    }
   ],
   "source": [
    "response_json.keys()"
   ]
  },
  {
   "cell_type": "code",
   "execution_count": 20,
   "metadata": {},
   "outputs": [
    {
     "data": {
      "text/plain": [
       "dict_keys(['bizId', 'searchResultBusiness', 'scrollablePhotos', 'childrenBusinessInfo', 'searchResultBusinessPortfolioProjects', 'searchResultBusinessHighlights', 'tags', 'serviceOfferings', 'snippet', 'searchActions', 'markerKey', 'searchResultLayoutType', 'verifiedLicenseLayout', 'yelpGuaranteedInfo', 'offerCampaignDetails', 'openHoursData', 'renderAdInfo', 'ranking'])"
      ]
     },
     "execution_count": 20,
     "metadata": {},
     "output_type": "execute_result"
    }
   ],
   "source": [
    "response_json['searchPageProps']['mainContentComponentsListProps'][2].keys()"
   ]
  },
  {
   "cell_type": "code",
   "execution_count": 21,
   "metadata": {},
   "outputs": [
    {
     "data": {
      "text/plain": [
       "{'ranking': 1,\n",
       " 'isAd': False,\n",
       " 'renderAdInfo': False,\n",
       " 'name': 'Cerveseria Catalana',\n",
       " 'alternateNames': [],\n",
       " 'businessUrl': '/biz/cerveseria-catalana-barcelona?osq=restaurantes',\n",
       " 'categories': [{'title': 'Español',\n",
       "   'url': '/search?find_desc=Espa%C3%B1ol&find_loc=Barcelona'}],\n",
       " 'priceRange': '€€',\n",
       " 'rating': 4.3,\n",
       " 'reviewCount': 1761,\n",
       " 'formattedAddress': '',\n",
       " 'neighborhoods': [\"L'Eixample\"],\n",
       " 'phone': '932 160 368',\n",
       " 'serviceArea': None,\n",
       " 'parentBusiness': None,\n",
       " 'servicePricing': None,\n",
       " 'serviceOfferings': [],\n",
       " 'businessAttributes': {},\n",
       " 'alias': 'cerveseria-catalana-barcelona',\n",
       " 'website': {'href': 'http://cerveceriacatalana.food-ts.com',\n",
       "  'rel': 'noopener'},\n",
       " 'businessSectionUrls': {'portfolio': '/biz/cerveseria-catalana-barcelona?osq=restaurantes#portfolio'}}"
      ]
     },
     "execution_count": 21,
     "metadata": {},
     "output_type": "execute_result"
    }
   ],
   "source": [
    "response_json['searchPageProps']['mainContentComponentsListProps'][2]['searchResultBusiness']"
   ]
  },
  {
   "cell_type": "code",
   "execution_count": 22,
   "metadata": {},
   "outputs": [
    {
     "name": "stdout",
     "output_type": "stream",
     "text": [
      "{\"error\": {\"code\": \"VALIDATION_ERROR\", \"description\": \"Authorization is a required parameter.\", \"field\": \"Authorization\", \"instance\": null}}\n"
     ]
    }
   ],
   "source": [
    "url = \"https://api.yelp.com/v3/businesses/search?sort_by=best_match&limit=20\"\n",
    "\n",
    "headers = {\"accept\": \"application/json\"}\n",
    "\n",
    "response = requests.get(url, headers=headers)\n",
    "\n",
    "print(response.text)"
   ]
  },
  {
   "cell_type": "markdown",
   "metadata": {},
   "source": [
    "# With Playwrights "
   ]
  },
  {
   "cell_type": "markdown",
   "metadata": {},
   "source": [
    "Because the website has a lot of cookies and it detect us as a bot"
   ]
  },
  {
   "cell_type": "code",
   "execution_count": 27,
   "metadata": {},
   "outputs": [],
   "source": [
    "import asyncio\n",
    "from playwright.async_api import async_playwright"
   ]
  },
  {
   "cell_type": "code",
   "execution_count": 28,
   "metadata": {},
   "outputs": [
    {
     "ename": "RuntimeError",
     "evalue": "asyncio.run() cannot be called from a running event loop",
     "output_type": "error",
     "traceback": [
      "\u001b[0;31m---------------------------------------------------------------------------\u001b[0m",
      "\u001b[0;31mRuntimeError\u001b[0m                              Traceback (most recent call last)",
      "Cell \u001b[0;32mIn[28], line 15\u001b[0m\n\u001b[1;32m     12\u001b[0m         \u001b[39mawait\u001b[39;00m browser\u001b[39m.\u001b[39mclose()\n\u001b[1;32m     14\u001b[0m \u001b[39m# Run the async function properly\u001b[39;00m\n\u001b[0;32m---> 15\u001b[0m asyncio\u001b[39m.\u001b[39;49mrun(scrape_yelp())\n",
      "File \u001b[0;32m/Library/Developer/CommandLineTools/Library/Frameworks/Python3.framework/Versions/3.9/lib/python3.9/asyncio/runners.py:33\u001b[0m, in \u001b[0;36mrun\u001b[0;34m(main, debug)\u001b[0m\n\u001b[1;32m      9\u001b[0m \u001b[39m\u001b[39m\u001b[39m\"\"\"Execute the coroutine and return the result.\u001b[39;00m\n\u001b[1;32m     10\u001b[0m \n\u001b[1;32m     11\u001b[0m \u001b[39mThis function runs the passed coroutine, taking care of\u001b[39;00m\n\u001b[0;32m   (...)\u001b[0m\n\u001b[1;32m     30\u001b[0m \u001b[39m    asyncio.run(main())\u001b[39;00m\n\u001b[1;32m     31\u001b[0m \u001b[39m\"\"\"\u001b[39;00m\n\u001b[1;32m     32\u001b[0m \u001b[39mif\u001b[39;00m events\u001b[39m.\u001b[39m_get_running_loop() \u001b[39mis\u001b[39;00m \u001b[39mnot\u001b[39;00m \u001b[39mNone\u001b[39;00m:\n\u001b[0;32m---> 33\u001b[0m     \u001b[39mraise\u001b[39;00m \u001b[39mRuntimeError\u001b[39;00m(\n\u001b[1;32m     34\u001b[0m         \u001b[39m\"\u001b[39m\u001b[39masyncio.run() cannot be called from a running event loop\u001b[39m\u001b[39m\"\u001b[39m)\n\u001b[1;32m     36\u001b[0m \u001b[39mif\u001b[39;00m \u001b[39mnot\u001b[39;00m coroutines\u001b[39m.\u001b[39miscoroutine(main):\n\u001b[1;32m     37\u001b[0m     \u001b[39mraise\u001b[39;00m \u001b[39mValueError\u001b[39;00m(\u001b[39m\"\u001b[39m\u001b[39ma coroutine was expected, got \u001b[39m\u001b[39m{!r}\u001b[39;00m\u001b[39m\"\u001b[39m\u001b[39m.\u001b[39mformat(main))\n",
      "\u001b[0;31mRuntimeError\u001b[0m: asyncio.run() cannot be called from a running event loop"
     ]
    }
   ],
   "source": [
    "async def scrape_yelp():\n",
    "    async with async_playwright() as p:\n",
    "        browser = await p.chromium.launch(headless=False)  # Keep headless=False to look human\n",
    "        context = await browser.new_context()\n",
    "        page = await context.new_page()\n",
    "        \n",
    "        await page.goto(\"https://www.yelp.es\")  # Open Yelp\n",
    "        title = await page.title()\n",
    "        \n",
    "        print(f\"Page Title: {title}\")  # Print the title of the page\n",
    "        \n",
    "        await browser.close()\n",
    "\n",
    "# Run the async function properly\n",
    "asyncio.run(scrape_yelp())"
   ]
  }
 ],
 "metadata": {
  "kernelspec": {
   "display_name": "BDM",
   "language": "python",
   "name": "python3"
  },
  "language_info": {
   "codemirror_mode": {
    "name": "ipython",
    "version": 3
   },
   "file_extension": ".py",
   "mimetype": "text/x-python",
   "name": "python",
   "nbconvert_exporter": "python",
   "pygments_lexer": "ipython3",
   "version": "3.9.6"
  },
  "orig_nbformat": 4
 },
 "nbformat": 4,
 "nbformat_minor": 2
}
